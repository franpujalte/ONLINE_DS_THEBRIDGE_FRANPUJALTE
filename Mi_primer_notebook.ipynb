{
 "cells": [
  {
   "cell_type": "code",
   "execution_count": 1,
   "id": "ed31fe77-ea05-4dd0-b063-1b31e7bf6493",
   "metadata": {},
   "outputs": [
    {
     "name": "stdout",
     "output_type": "stream",
     "text": [
      "Hola mundo\n"
     ]
    }
   ],
   "source": [
    "print(\"Hola mundo\")"
   ]
  },
  {
   "cell_type": "markdown",
   "id": "9b49646c-328c-4d84-9152-76e75c1274a2",
   "metadata": {},
   "source": [
    "Hola Mundo"
   ]
  },
  {
   "cell_type": "code",
   "execution_count": null,
   "id": "859f84a3-a286-4d67-bdc8-76e72bbccb1b",
   "metadata": {},
   "outputs": [],
   "source": []
  }
 ],
 "metadata": {
  "kernelspec": {
   "display_name": "Python 3 (ipykernel)",
   "language": "python",
   "name": "python3"
  },
  "language_info": {
   "codemirror_mode": {
    "name": "ipython",
    "version": 3
   },
   "file_extension": ".py",
   "mimetype": "text/x-python",
   "name": "python",
   "nbconvert_exporter": "python",
   "pygments_lexer": "ipython3",
   "version": "3.12.1"
  }
 },
 "nbformat": 4,
 "nbformat_minor": 5
}
